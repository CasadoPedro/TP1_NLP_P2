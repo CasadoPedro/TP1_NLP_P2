{
 "cells": [
  {
   "cell_type": "markdown",
   "id": "77c95017",
   "metadata": {},
   "source": [
    "EJERCICIO 6  \n",
    "\n",
    "Crea un set de datos de consultas (más de 300 preguntas en total) y categorizalas entre la \n",
    "fuente  de  datos  que  pueda  llegar  a  responder  esa  pregunta  entre  estadísticas, \n",
    "información y relaciones. \n",
    " \n",
    "Por ejemplo: \n",
    "-  ¿Cómo gano en el ajedrez? -> Información \n",
    "-  ¿Quién trabajó para el ta-te-ti? -> Relaciones \n",
    "-  ¿Qué puntaje tienen las damas? -> Estadística \n",
    " \n",
    "A continuación, transforma esas consultas en vectores y entrena un modelo de clasificación \n",
    "(a  gusto  del  estudiante)  en  donde  pueda  predecir  la categoría a través de la consulta \n",
    "ingresada. \n",
    " \n",
    "Agregar  métricas  y  análisis  durante  todo  el  desarrollo,  trabaje  en  varios  modelos  y \n",
    "comparelos. \n",
    " "
   ]
  },
  {
   "cell_type": "code",
   "execution_count": 1,
   "id": "2d78224b",
   "metadata": {},
   "outputs": [],
   "source": [
    "import pandas as pd"
   ]
  },
  {
   "cell_type": "code",
   "execution_count": 2,
   "id": "384f8b6e",
   "metadata": {},
   "outputs": [],
   "source": [
    "#Abrimos el archivo CSV conteniendo las preguntas\n",
    "df = pd.read_csv('dataset_preguntas.csv')"
   ]
  },
  {
   "cell_type": "code",
   "execution_count": 3,
   "id": "c9df27ef",
   "metadata": {},
   "outputs": [
    {
     "data": {
      "text/html": [
       "<div>\n",
       "<style scoped>\n",
       "    .dataframe tbody tr th:only-of-type {\n",
       "        vertical-align: middle;\n",
       "    }\n",
       "\n",
       "    .dataframe tbody tr th {\n",
       "        vertical-align: top;\n",
       "    }\n",
       "\n",
       "    .dataframe thead th {\n",
       "        text-align: right;\n",
       "    }\n",
       "</style>\n",
       "<table border=\"1\" class=\"dataframe\">\n",
       "  <thead>\n",
       "    <tr style=\"text-align: right;\">\n",
       "      <th></th>\n",
       "      <th>pregunta</th>\n",
       "      <th>etiqueta</th>\n",
       "    </tr>\n",
       "  </thead>\n",
       "  <tbody>\n",
       "    <tr>\n",
       "      <th>0</th>\n",
       "      <td>¿Qué empresa diseñó el empaque del juego?</td>\n",
       "      <td>relaciones</td>\n",
       "    </tr>\n",
       "    <tr>\n",
       "      <th>1</th>\n",
       "      <td>¿Qué celebridades han jugado Sagrada?</td>\n",
       "      <td>relaciones</td>\n",
       "    </tr>\n",
       "    <tr>\n",
       "      <th>2</th>\n",
       "      <td>¿Qué porcentaje de jugadores recomiendan Sagrada?</td>\n",
       "      <td>estadisticas</td>\n",
       "    </tr>\n",
       "    <tr>\n",
       "      <th>3</th>\n",
       "      <td>¿Qué puesto ocupa Sagrada en el ranking global...</td>\n",
       "      <td>estadisticas</td>\n",
       "    </tr>\n",
       "    <tr>\n",
       "      <th>4</th>\n",
       "      <td>¿Quién ganó el torneo nacional de Sagrada en 2...</td>\n",
       "      <td>relaciones</td>\n",
       "    </tr>\n",
       "  </tbody>\n",
       "</table>\n",
       "</div>"
      ],
      "text/plain": [
       "                                            pregunta      etiqueta\n",
       "0          ¿Qué empresa diseñó el empaque del juego?    relaciones\n",
       "1              ¿Qué celebridades han jugado Sagrada?    relaciones\n",
       "2  ¿Qué porcentaje de jugadores recomiendan Sagrada?  estadisticas\n",
       "3  ¿Qué puesto ocupa Sagrada en el ranking global...  estadisticas\n",
       "4  ¿Quién ganó el torneo nacional de Sagrada en 2...    relaciones"
      ]
     },
     "execution_count": 3,
     "metadata": {},
     "output_type": "execute_result"
    }
   ],
   "source": [
    "df.head()"
   ]
  },
  {
   "cell_type": "code",
   "execution_count": 4,
   "id": "fa6031e9",
   "metadata": {},
   "outputs": [
    {
     "name": "stderr",
     "output_type": "stream",
     "text": [
      "/home/pedro/Repositories/NLP-TP1-P2/.venv/lib/python3.11/site-packages/tqdm/auto.py:21: TqdmWarning: IProgress not found. Please update jupyter and ipywidgets. See https://ipywidgets.readthedocs.io/en/stable/user_install.html\n",
      "  from .autonotebook import tqdm as notebook_tqdm\n",
      "2025-05-25 22:26:38.710243: I tensorflow/tsl/cuda/cudart_stub.cc:28] Could not find cuda drivers on your machine, GPU will not be used.\n",
      "2025-05-25 22:26:38.780438: I tensorflow/core/platform/cpu_feature_guard.cc:182] This TensorFlow binary is optimized to use available CPU instructions in performance-critical operations.\n",
      "To enable the following instructions: AVX2 FMA, in other operations, rebuild TensorFlow with the appropriate compiler flags.\n",
      "2025-05-25 22:26:39.999099: W tensorflow/compiler/tf2tensorrt/utils/py_utils.cc:38] TF-TRT Warning: Could not find TensorRT\n"
     ]
    }
   ],
   "source": [
    "# Vamos a utilizar un modelo preentrenado de embeddings que soporte múltiples idiomas\n",
    "from sentence_transformers import SentenceTransformer\n",
    "\n",
    "embedding_model = SentenceTransformer('sentence-transformers/paraphrase-multilingual-mpnet-base-v2')"
   ]
  },
  {
   "cell_type": "code",
   "execution_count": 5,
   "id": "7a330859",
   "metadata": {},
   "outputs": [
    {
     "name": "stderr",
     "output_type": "stream",
     "text": [
      "Batches:   0%|          | 0/16 [00:00<?, ?it/s]"
     ]
    },
    {
     "name": "stderr",
     "output_type": "stream",
     "text": [
      "Batches: 100%|██████████| 16/16 [00:04<00:00,  3.23it/s]\n"
     ]
    }
   ],
   "source": [
    "#Generamos los embeddings de las preguntas\n",
    "embeddings = embedding_model.encode(sentences=df['pregunta'].tolist(), show_progress_bar=True, convert_to_tensor=True).cpu().numpy()"
   ]
  },
  {
   "cell_type": "code",
   "execution_count": 6,
   "id": "14322d8a",
   "metadata": {},
   "outputs": [],
   "source": [
    "# Guardamos las etiquetas codificadas\n",
    "y = df['etiqueta']\n",
    "y = y.astype('category').cat.codes"
   ]
  },
  {
   "cell_type": "code",
   "execution_count": 55,
   "id": "442bdf7b",
   "metadata": {},
   "outputs": [],
   "source": [
    "clases = {0: \"estadisticas\", 1: \"informacion\", 2: \"relaciones\"}"
   ]
  },
  {
   "cell_type": "code",
   "execution_count": 7,
   "id": "9562d197",
   "metadata": {},
   "outputs": [],
   "source": [
    "#Codificamos las etiquetas para poder utilizarlas en el modelo\n",
    "from tensorflow.keras.utils import to_categorical\n",
    "y = to_categorical(y, num_classes=3)"
   ]
  },
  {
   "cell_type": "code",
   "execution_count": 8,
   "id": "2225f93c",
   "metadata": {},
   "outputs": [],
   "source": [
    "from sklearn.model_selection import train_test_split\n",
    "# Dividimos el dataset en entrenamiento y test\n",
    "X_train, X_test, y_train, y_test = train_test_split(\n",
    "    embeddings, y, test_size=0.2, random_state=42\n",
    ")"
   ]
  },
  {
   "cell_type": "code",
   "execution_count": null,
   "id": "e14e9c5f",
   "metadata": {},
   "outputs": [],
   "source": [
    "from tensorflow.keras.models import Sequential\n",
    "from tensorflow.keras.layers import Dense, Input\n",
    "from tensorflow.keras.callbacks import EarlyStopping"
   ]
  },
  {
   "cell_type": "code",
   "execution_count": 12,
   "id": "3cb2b8a8",
   "metadata": {},
   "outputs": [
    {
     "name": "stderr",
     "output_type": "stream",
     "text": [
      "2025-05-25 22:27:34.334481: I tensorflow/compiler/xla/stream_executor/cuda/cuda_gpu_executor.cc:996] successful NUMA node read from SysFS had negative value (-1), but there must be at least one NUMA node, so returning NUMA node zero. See more at https://github.com/torvalds/linux/blob/v6.0/Documentation/ABI/testing/sysfs-bus-pci#L344-L355\n",
      "2025-05-25 22:27:34.349420: W tensorflow/core/common_runtime/gpu/gpu_device.cc:1956] Cannot dlopen some GPU libraries. Please make sure the missing libraries mentioned above are installed properly if you would like to use GPU. Follow the guide at https://www.tensorflow.org/install/gpu for how to download and setup the required libraries for your platform.\n",
      "Skipping registering GPU devices...\n"
     ]
    }
   ],
   "source": [
    "# Definimos la arquitectura de la red neuronal\n",
    "model = Sequential(\n",
    "    [\n",
    "        Input(shape=(768,)),\n",
    "        Dense(128, activation=\"relu\"),\n",
    "        Dense(64, activation=\"relu\"),\n",
    "        Dense(32, activation=\"relu\"),\n",
    "        Dense(3, activation=\"softmax\"),  # 3 clases: piedra, papel, tijeras\n",
    "    ]\n",
    ")"
   ]
  },
  {
   "cell_type": "code",
   "execution_count": 13,
   "id": "5db64b03",
   "metadata": {},
   "outputs": [],
   "source": [
    "# Compilamos el modelo\n",
    "model.compile(optimizer=\"adam\", loss=\"categorical_crossentropy\", metrics=[\"accuracy\"])"
   ]
  },
  {
   "cell_type": "code",
   "execution_count": 14,
   "id": "041775ac",
   "metadata": {},
   "outputs": [],
   "source": [
    "# Usamos early stopping para frenar el entrenamiento\n",
    "early_stopping = EarlyStopping(monitor=\"val_loss\", patience=10, verbose=0, mode=\"min\")"
   ]
  },
  {
   "cell_type": "code",
   "execution_count": 15,
   "id": "aad4c9d0",
   "metadata": {},
   "outputs": [
    {
     "name": "stdout",
     "output_type": "stream",
     "text": [
      "Epoch 1/200\n",
      "10/10 [==============================] - 1s 23ms/step - loss: 1.0134 - accuracy: 0.5594 - val_loss: 0.8621 - val_accuracy: 0.8125\n",
      "Epoch 2/200\n",
      "10/10 [==============================] - 0s 5ms/step - loss: 0.7170 - accuracy: 0.8469 - val_loss: 0.5231 - val_accuracy: 0.8500\n",
      "Epoch 3/200\n",
      "10/10 [==============================] - 0s 5ms/step - loss: 0.3545 - accuracy: 0.9344 - val_loss: 0.2528 - val_accuracy: 0.9250\n",
      "Epoch 4/200\n",
      "10/10 [==============================] - 0s 5ms/step - loss: 0.1576 - accuracy: 0.9625 - val_loss: 0.1210 - val_accuracy: 0.9750\n",
      "Epoch 5/200\n",
      "10/10 [==============================] - 0s 5ms/step - loss: 0.0740 - accuracy: 0.9750 - val_loss: 0.0660 - val_accuracy: 0.9875\n",
      "Epoch 6/200\n",
      "10/10 [==============================] - 0s 5ms/step - loss: 0.0427 - accuracy: 0.9906 - val_loss: 0.0488 - val_accuracy: 0.9875\n",
      "Epoch 7/200\n",
      "10/10 [==============================] - 0s 5ms/step - loss: 0.0176 - accuracy: 1.0000 - val_loss: 0.0265 - val_accuracy: 0.9875\n",
      "Epoch 8/200\n",
      "10/10 [==============================] - 0s 5ms/step - loss: 0.0105 - accuracy: 1.0000 - val_loss: 0.0193 - val_accuracy: 0.9875\n",
      "Epoch 9/200\n",
      "10/10 [==============================] - 0s 5ms/step - loss: 0.0067 - accuracy: 1.0000 - val_loss: 0.0158 - val_accuracy: 0.9875\n",
      "Epoch 10/200\n",
      "10/10 [==============================] - 0s 5ms/step - loss: 0.0051 - accuracy: 1.0000 - val_loss: 0.0140 - val_accuracy: 1.0000\n",
      "Epoch 11/200\n",
      "10/10 [==============================] - 0s 5ms/step - loss: 0.0037 - accuracy: 1.0000 - val_loss: 0.0123 - val_accuracy: 1.0000\n",
      "Epoch 12/200\n",
      "10/10 [==============================] - 0s 5ms/step - loss: 0.0028 - accuracy: 1.0000 - val_loss: 0.0128 - val_accuracy: 0.9875\n",
      "Epoch 13/200\n",
      "10/10 [==============================] - 0s 5ms/step - loss: 0.0023 - accuracy: 1.0000 - val_loss: 0.0120 - val_accuracy: 0.9875\n",
      "Epoch 14/200\n",
      "10/10 [==============================] - 0s 5ms/step - loss: 0.0020 - accuracy: 1.0000 - val_loss: 0.0110 - val_accuracy: 1.0000\n",
      "Epoch 15/200\n",
      "10/10 [==============================] - 0s 5ms/step - loss: 0.0017 - accuracy: 1.0000 - val_loss: 0.0100 - val_accuracy: 1.0000\n",
      "Epoch 16/200\n",
      "10/10 [==============================] - 0s 5ms/step - loss: 0.0015 - accuracy: 1.0000 - val_loss: 0.0100 - val_accuracy: 1.0000\n",
      "Epoch 17/200\n",
      "10/10 [==============================] - 0s 5ms/step - loss: 0.0013 - accuracy: 1.0000 - val_loss: 0.0093 - val_accuracy: 1.0000\n",
      "Epoch 18/200\n",
      "10/10 [==============================] - 0s 5ms/step - loss: 0.0011 - accuracy: 1.0000 - val_loss: 0.0092 - val_accuracy: 1.0000\n",
      "Epoch 19/200\n",
      "10/10 [==============================] - 0s 6ms/step - loss: 0.0010 - accuracy: 1.0000 - val_loss: 0.0095 - val_accuracy: 1.0000\n",
      "Epoch 20/200\n",
      "10/10 [==============================] - 0s 6ms/step - loss: 9.0514e-04 - accuracy: 1.0000 - val_loss: 0.0090 - val_accuracy: 1.0000\n",
      "Epoch 21/200\n",
      "10/10 [==============================] - 0s 6ms/step - loss: 8.2289e-04 - accuracy: 1.0000 - val_loss: 0.0085 - val_accuracy: 1.0000\n",
      "Epoch 22/200\n",
      "10/10 [==============================] - 0s 6ms/step - loss: 7.4037e-04 - accuracy: 1.0000 - val_loss: 0.0084 - val_accuracy: 1.0000\n",
      "Epoch 23/200\n",
      "10/10 [==============================] - 0s 8ms/step - loss: 6.7806e-04 - accuracy: 1.0000 - val_loss: 0.0086 - val_accuracy: 1.0000\n",
      "Epoch 24/200\n",
      "10/10 [==============================] - 0s 7ms/step - loss: 6.1996e-04 - accuracy: 1.0000 - val_loss: 0.0085 - val_accuracy: 1.0000\n",
      "Epoch 25/200\n",
      "10/10 [==============================] - 0s 5ms/step - loss: 5.6761e-04 - accuracy: 1.0000 - val_loss: 0.0082 - val_accuracy: 1.0000\n",
      "Epoch 26/200\n",
      "10/10 [==============================] - 0s 5ms/step - loss: 5.2517e-04 - accuracy: 1.0000 - val_loss: 0.0080 - val_accuracy: 1.0000\n",
      "Epoch 27/200\n",
      "10/10 [==============================] - 0s 6ms/step - loss: 4.8356e-04 - accuracy: 1.0000 - val_loss: 0.0079 - val_accuracy: 1.0000\n",
      "Epoch 28/200\n",
      "10/10 [==============================] - 0s 5ms/step - loss: 4.4942e-04 - accuracy: 1.0000 - val_loss: 0.0079 - val_accuracy: 1.0000\n",
      "Epoch 29/200\n",
      "10/10 [==============================] - 0s 5ms/step - loss: 4.1836e-04 - accuracy: 1.0000 - val_loss: 0.0080 - val_accuracy: 1.0000\n",
      "Epoch 30/200\n",
      "10/10 [==============================] - 0s 5ms/step - loss: 3.8913e-04 - accuracy: 1.0000 - val_loss: 0.0077 - val_accuracy: 1.0000\n",
      "Epoch 31/200\n",
      "10/10 [==============================] - 0s 6ms/step - loss: 3.6518e-04 - accuracy: 1.0000 - val_loss: 0.0077 - val_accuracy: 1.0000\n",
      "Epoch 32/200\n",
      "10/10 [==============================] - 0s 10ms/step - loss: 3.4075e-04 - accuracy: 1.0000 - val_loss: 0.0077 - val_accuracy: 1.0000\n",
      "Epoch 33/200\n",
      "10/10 [==============================] - 0s 9ms/step - loss: 3.2330e-04 - accuracy: 1.0000 - val_loss: 0.0075 - val_accuracy: 1.0000\n",
      "Epoch 34/200\n",
      "10/10 [==============================] - 0s 5ms/step - loss: 3.0001e-04 - accuracy: 1.0000 - val_loss: 0.0075 - val_accuracy: 1.0000\n",
      "Epoch 35/200\n",
      "10/10 [==============================] - 0s 5ms/step - loss: 2.8464e-04 - accuracy: 1.0000 - val_loss: 0.0073 - val_accuracy: 1.0000\n",
      "Epoch 36/200\n",
      "10/10 [==============================] - 0s 5ms/step - loss: 2.6638e-04 - accuracy: 1.0000 - val_loss: 0.0074 - val_accuracy: 1.0000\n",
      "Epoch 37/200\n",
      "10/10 [==============================] - 0s 5ms/step - loss: 2.5177e-04 - accuracy: 1.0000 - val_loss: 0.0074 - val_accuracy: 1.0000\n",
      "Epoch 38/200\n",
      "10/10 [==============================] - 0s 5ms/step - loss: 2.3831e-04 - accuracy: 1.0000 - val_loss: 0.0074 - val_accuracy: 1.0000\n",
      "Epoch 39/200\n",
      "10/10 [==============================] - 0s 6ms/step - loss: 2.2616e-04 - accuracy: 1.0000 - val_loss: 0.0073 - val_accuracy: 1.0000\n",
      "Epoch 40/200\n",
      "10/10 [==============================] - 0s 6ms/step - loss: 2.1430e-04 - accuracy: 1.0000 - val_loss: 0.0072 - val_accuracy: 1.0000\n",
      "Epoch 41/200\n",
      "10/10 [==============================] - 0s 5ms/step - loss: 2.0413e-04 - accuracy: 1.0000 - val_loss: 0.0072 - val_accuracy: 1.0000\n",
      "Epoch 42/200\n",
      "10/10 [==============================] - 0s 5ms/step - loss: 1.9306e-04 - accuracy: 1.0000 - val_loss: 0.0071 - val_accuracy: 1.0000\n",
      "Epoch 43/200\n",
      "10/10 [==============================] - 0s 5ms/step - loss: 1.8326e-04 - accuracy: 1.0000 - val_loss: 0.0071 - val_accuracy: 1.0000\n",
      "Epoch 44/200\n",
      "10/10 [==============================] - 0s 6ms/step - loss: 1.7475e-04 - accuracy: 1.0000 - val_loss: 0.0072 - val_accuracy: 1.0000\n",
      "Epoch 45/200\n",
      "10/10 [==============================] - 0s 5ms/step - loss: 1.6753e-04 - accuracy: 1.0000 - val_loss: 0.0072 - val_accuracy: 1.0000\n",
      "Epoch 46/200\n",
      "10/10 [==============================] - 0s 5ms/step - loss: 1.5928e-04 - accuracy: 1.0000 - val_loss: 0.0069 - val_accuracy: 1.0000\n",
      "Epoch 47/200\n",
      "10/10 [==============================] - 0s 5ms/step - loss: 1.5201e-04 - accuracy: 1.0000 - val_loss: 0.0069 - val_accuracy: 1.0000\n",
      "Epoch 48/200\n",
      "10/10 [==============================] - 0s 5ms/step - loss: 1.4537e-04 - accuracy: 1.0000 - val_loss: 0.0068 - val_accuracy: 1.0000\n",
      "Epoch 49/200\n",
      "10/10 [==============================] - 0s 5ms/step - loss: 1.3866e-04 - accuracy: 1.0000 - val_loss: 0.0069 - val_accuracy: 1.0000\n",
      "Epoch 50/200\n",
      "10/10 [==============================] - 0s 5ms/step - loss: 1.3357e-04 - accuracy: 1.0000 - val_loss: 0.0070 - val_accuracy: 1.0000\n",
      "Epoch 51/200\n",
      "10/10 [==============================] - 0s 5ms/step - loss: 1.2722e-04 - accuracy: 1.0000 - val_loss: 0.0070 - val_accuracy: 1.0000\n",
      "Epoch 52/200\n",
      "10/10 [==============================] - 0s 6ms/step - loss: 1.2221e-04 - accuracy: 1.0000 - val_loss: 0.0068 - val_accuracy: 1.0000\n",
      "Epoch 53/200\n",
      "10/10 [==============================] - 0s 6ms/step - loss: 1.1764e-04 - accuracy: 1.0000 - val_loss: 0.0068 - val_accuracy: 1.0000\n",
      "Epoch 54/200\n",
      "10/10 [==============================] - 0s 6ms/step - loss: 1.1283e-04 - accuracy: 1.0000 - val_loss: 0.0068 - val_accuracy: 1.0000\n",
      "Epoch 55/200\n",
      "10/10 [==============================] - 0s 5ms/step - loss: 1.0837e-04 - accuracy: 1.0000 - val_loss: 0.0067 - val_accuracy: 1.0000\n",
      "Epoch 56/200\n",
      "10/10 [==============================] - 0s 6ms/step - loss: 1.0441e-04 - accuracy: 1.0000 - val_loss: 0.0068 - val_accuracy: 1.0000\n",
      "Epoch 57/200\n",
      "10/10 [==============================] - 0s 5ms/step - loss: 1.0047e-04 - accuracy: 1.0000 - val_loss: 0.0069 - val_accuracy: 1.0000\n",
      "Epoch 58/200\n",
      "10/10 [==============================] - 0s 5ms/step - loss: 9.7142e-05 - accuracy: 1.0000 - val_loss: 0.0067 - val_accuracy: 1.0000\n",
      "Epoch 59/200\n",
      "10/10 [==============================] - 0s 5ms/step - loss: 9.3152e-05 - accuracy: 1.0000 - val_loss: 0.0067 - val_accuracy: 1.0000\n",
      "Epoch 60/200\n",
      "10/10 [==============================] - 0s 5ms/step - loss: 8.9981e-05 - accuracy: 1.0000 - val_loss: 0.0068 - val_accuracy: 1.0000\n",
      "Epoch 61/200\n",
      "10/10 [==============================] - 0s 5ms/step - loss: 8.6882e-05 - accuracy: 1.0000 - val_loss: 0.0066 - val_accuracy: 1.0000\n",
      "Epoch 62/200\n",
      "10/10 [==============================] - 0s 5ms/step - loss: 8.4032e-05 - accuracy: 1.0000 - val_loss: 0.0067 - val_accuracy: 1.0000\n",
      "Epoch 63/200\n",
      "10/10 [==============================] - 0s 5ms/step - loss: 8.1078e-05 - accuracy: 1.0000 - val_loss: 0.0068 - val_accuracy: 1.0000\n",
      "Epoch 64/200\n",
      "10/10 [==============================] - 0s 5ms/step - loss: 7.8153e-05 - accuracy: 1.0000 - val_loss: 0.0068 - val_accuracy: 1.0000\n",
      "Epoch 65/200\n",
      "10/10 [==============================] - 0s 5ms/step - loss: 7.5789e-05 - accuracy: 1.0000 - val_loss: 0.0067 - val_accuracy: 1.0000\n",
      "Epoch 66/200\n",
      "10/10 [==============================] - 0s 5ms/step - loss: 7.3207e-05 - accuracy: 1.0000 - val_loss: 0.0067 - val_accuracy: 1.0000\n",
      "Epoch 67/200\n",
      "10/10 [==============================] - 0s 5ms/step - loss: 7.0966e-05 - accuracy: 1.0000 - val_loss: 0.0068 - val_accuracy: 1.0000\n",
      "Epoch 68/200\n",
      "10/10 [==============================] - 0s 5ms/step - loss: 6.8521e-05 - accuracy: 1.0000 - val_loss: 0.0067 - val_accuracy: 1.0000\n",
      "Epoch 69/200\n",
      "10/10 [==============================] - 0s 5ms/step - loss: 6.6490e-05 - accuracy: 1.0000 - val_loss: 0.0066 - val_accuracy: 1.0000\n",
      "Epoch 70/200\n",
      "10/10 [==============================] - 0s 5ms/step - loss: 6.4489e-05 - accuracy: 1.0000 - val_loss: 0.0067 - val_accuracy: 1.0000\n",
      "Epoch 71/200\n",
      "10/10 [==============================] - 0s 5ms/step - loss: 6.2648e-05 - accuracy: 1.0000 - val_loss: 0.0068 - val_accuracy: 1.0000\n",
      "Epoch 72/200\n",
      "10/10 [==============================] - 0s 5ms/step - loss: 6.0560e-05 - accuracy: 1.0000 - val_loss: 0.0067 - val_accuracy: 1.0000\n",
      "Epoch 73/200\n",
      "10/10 [==============================] - 0s 5ms/step - loss: 5.8819e-05 - accuracy: 1.0000 - val_loss: 0.0067 - val_accuracy: 1.0000\n",
      "Epoch 74/200\n",
      "10/10 [==============================] - 0s 5ms/step - loss: 5.7289e-05 - accuracy: 1.0000 - val_loss: 0.0067 - val_accuracy: 1.0000\n",
      "Epoch 75/200\n",
      "10/10 [==============================] - 0s 5ms/step - loss: 5.5373e-05 - accuracy: 1.0000 - val_loss: 0.0067 - val_accuracy: 1.0000\n",
      "Epoch 76/200\n",
      "10/10 [==============================] - 0s 5ms/step - loss: 5.4063e-05 - accuracy: 1.0000 - val_loss: 0.0065 - val_accuracy: 1.0000\n",
      "Epoch 77/200\n",
      "10/10 [==============================] - 0s 5ms/step - loss: 5.2401e-05 - accuracy: 1.0000 - val_loss: 0.0066 - val_accuracy: 1.0000\n",
      "Epoch 78/200\n",
      "10/10 [==============================] - 0s 5ms/step - loss: 5.0917e-05 - accuracy: 1.0000 - val_loss: 0.0067 - val_accuracy: 1.0000\n",
      "Epoch 79/200\n",
      "10/10 [==============================] - 0s 5ms/step - loss: 4.9405e-05 - accuracy: 1.0000 - val_loss: 0.0067 - val_accuracy: 1.0000\n",
      "Epoch 80/200\n",
      "10/10 [==============================] - 0s 5ms/step - loss: 4.8104e-05 - accuracy: 1.0000 - val_loss: 0.0067 - val_accuracy: 1.0000\n",
      "Epoch 81/200\n",
      "10/10 [==============================] - 0s 5ms/step - loss: 4.6767e-05 - accuracy: 1.0000 - val_loss: 0.0066 - val_accuracy: 1.0000\n",
      "Epoch 82/200\n",
      "10/10 [==============================] - 0s 5ms/step - loss: 4.5637e-05 - accuracy: 1.0000 - val_loss: 0.0067 - val_accuracy: 1.0000\n",
      "Epoch 83/200\n",
      "10/10 [==============================] - 0s 5ms/step - loss: 4.4354e-05 - accuracy: 1.0000 - val_loss: 0.0067 - val_accuracy: 1.0000\n",
      "Epoch 84/200\n",
      "10/10 [==============================] - 0s 5ms/step - loss: 4.3234e-05 - accuracy: 1.0000 - val_loss: 0.0066 - val_accuracy: 1.0000\n",
      "Epoch 85/200\n",
      "10/10 [==============================] - 0s 5ms/step - loss: 4.2038e-05 - accuracy: 1.0000 - val_loss: 0.0066 - val_accuracy: 1.0000\n",
      "Epoch 86/200\n",
      "10/10 [==============================] - 0s 5ms/step - loss: 4.0971e-05 - accuracy: 1.0000 - val_loss: 0.0066 - val_accuracy: 1.0000\n"
     ]
    }
   ],
   "source": [
    "# Entrenar el modelo\n",
    "history = model.fit(\n",
    "    X_train,\n",
    "    y_train,\n",
    "    validation_split=0.2,\n",
    "    epochs=200,\n",
    "    callbacks=[early_stopping],\n",
    "    batch_size=32,\n",
    ")"
   ]
  },
  {
   "cell_type": "code",
   "execution_count": 60,
   "id": "798b6715",
   "metadata": {},
   "outputs": [],
   "source": [
    "import numpy as np\n",
    "import matplotlib.pyplot as plt"
   ]
  },
  {
   "cell_type": "code",
   "execution_count": 62,
   "id": "3c43b114",
   "metadata": {},
   "outputs": [
    {
     "data": {
      "image/png": "[encoded data removed]",
      "text/plain": [
       "<Figure size 800x300 with 2 Axes>"
      ]
     },
     "metadata": {},
     "output_type": "display_data"
    }
   ],
   "source": [
    "# Graficar pérdida de entrenamiento y validación\n",
    "plt.figure(figsize=(8, 3))\n",
    "epochs_range = range(len(history.history['loss']))\n",
    "acc = history.history['accuracy']\n",
    "val_acc = history.history['val_accuracy']\n",
    "loss = history.history['loss']\n",
    "val_loss = history.history['val_loss']\n",
    "    # Precisión\n",
    "plt.subplot(1, 2, 1)\n",
    "plt.plot(epochs_range, acc, label='Training Accuracy')\n",
    "plt.plot(epochs_range, val_acc, label='Validation Accuracy')\n",
    "plt.legend(loc='lower right')\n",
    "plt.title(' Accuracy')\n",
    "    # Pérdida\n",
    "plt.subplot(1, 2, 2)\n",
    "plt.plot(epochs_range, loss, label='Training Loss')\n",
    "plt.plot(epochs_range, val_loss, label='Validation Loss')\n",
    "plt.legend(loc='upper right')\n",
    "plt.title('Loss')\n",
    "plt.show()"
   ]
  },
  {
   "cell_type": "code",
   "execution_count": 63,
   "id": "6b926c4c",
   "metadata": {},
   "outputs": [],
   "source": [
    "pregunta = \"Como se juega Sagrada?\""
   ]
  },
  {
   "cell_type": "code",
   "execution_count": 64,
   "id": "f2e6b4b4",
   "metadata": {},
   "outputs": [
    {
     "name": "stderr",
     "output_type": "stream",
     "text": [
      "Batches: 100%|██████████| 1/1 [00:00<00:00, 44.89it/s]\n"
     ]
    }
   ],
   "source": [
    "embedding_pregunta = embedding_model.encode(sentences=pregunta, show_progress_bar=True, convert_to_tensor=True).cpu().numpy()"
   ]
  },
  {
   "cell_type": "code",
   "execution_count": 65,
   "id": "cd1760c3",
   "metadata": {},
   "outputs": [
    {
     "name": "stdout",
     "output_type": "stream",
     "text": [
      "1/1 [==============================] - 0s 25ms/step\n"
     ]
    }
   ],
   "source": [
    "prediccion = model.predict(np.expand_dims(embedding_pregunta, axis=0))\n",
    "clase_predicha = np.argmax(prediccion, axis=1)[0]"
   ]
  },
  {
   "cell_type": "code",
   "execution_count": 66,
   "id": "3a8c3dc2",
   "metadata": {},
   "outputs": [
    {
     "name": "stdout",
     "output_type": "stream",
     "text": [
      "Clase predicha: informacion\n"
     ]
    }
   ],
   "source": [
    "print(f\"Clase predicha: {clases[clase_predicha]}\")"
   ]
  }
 ],
 "metadata": {
  "kernelspec": {
   "display_name": ".venv",
   "language": "python",
   "name": "python3"
  },
  "language_info": {
   "codemirror_mode": {
    "name": "ipython",
    "version": 3
   },
   "file_extension": ".py",
   "mimetype": "text/x-python",
   "name": "python",
   "nbconvert_exporter": "python",
   "pygments_lexer": "ipython3",
   "version": "3.11.12"
  }
 },
 "nbformat": 4,
 "nbformat_minor": 5
}
