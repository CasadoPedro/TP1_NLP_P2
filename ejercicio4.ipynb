{
 "cells": [
  {
   "cell_type": "markdown",
   "id": "61ac337c",
   "metadata": {},
   "source": [
    "EJERCICIO 4 \n",
    "Mediante detección de idioma, separar los archivos en distintos lenguajes y guardar esa \n",
    "información en un dataframe. "
   ]
  },
  {
   "cell_type": "code",
   "execution_count": 7,
   "id": "9e12ccc6",
   "metadata": {},
   "outputs": [],
   "source": [
    "from langdetect import detect\n",
    "import os"
   ]
  },
  {
   "cell_type": "code",
   "execution_count": 8,
   "id": "1fd09b6b",
   "metadata": {},
   "outputs": [],
   "source": [
    "registro_idiomas = []"
   ]
  },
  {
   "cell_type": "code",
   "execution_count": 9,
   "id": "e46b1506",
   "metadata": {},
   "outputs": [],
   "source": [
    "carpeta_base = './datos/informacion'\n",
    "for archivo in os.listdir(carpeta_base):\n",
    "    ruta_archivo = os.path.join(carpeta_base, archivo)\n",
    "    # Verifica que sea un archivo\n",
    "    if os.path.isfile(ruta_archivo):\n",
    "        # Abre el archivo y lee su contenido\n",
    "        with open(ruta_archivo, 'r', encoding='utf-8') as f:\n",
    "            contenido = f.read()\n",
    "            # Detecta el idioma del contenido del archivo\n",
    "            idioma = detect(contenido)\n",
    "            registro_idiomas.append({\n",
    "                'nombre_archivo': archivo,\n",
    "                'idioma': idioma\n",
    "            })"
   ]
  },
  {
   "cell_type": "code",
   "execution_count": 10,
   "id": "9a08c40f",
   "metadata": {},
   "outputs": [
    {
     "data": {
      "text/plain": [
       "[{'nombre_archivo': 'Sagrada - How To Play, by Watch It Played  Video  BoardGameGeek.txt',\n",
       "  'idioma': 'en'},\n",
       " {'nombre_archivo': 'Sagrada Review by Man Vs Meeple  Video  BoardGameGeek.txt',\n",
       "  'idioma': 'en'},\n",
       " {'nombre_archivo': 'Sagrada_solitaire_variant.txt', 'idioma': 'en'},\n",
       " {'nombre_archivo': 'Bryan Drake @TheLatestRetro reviews Sagrada  Video  BoardGameGeek.txt',\n",
       "  'idioma': 'en'},\n",
       " {'nombre_archivo': 'solomode games - Sagrada solo session  Video  BoardGameGeek.txt',\n",
       "  'idioma': 'en'},\n",
       " {'nombre_archivo': 'Board to Death Video (6 min.)  Video  BoardGameGeek.txt',\n",
       "  'idioma': 'en'},\n",
       " {'nombre_archivo': 'The Art, Design, and Player Experience of Sagrada by Floodgate Games  Video  BoardGameGeek.txt',\n",
       "  'idioma': 'en'},\n",
       " {'nombre_archivo': 'Sagrada__Automa_wPassion_-Deluxe_-_German.txt',\n",
       "  'idioma': 'de'},\n",
       " {'nombre_archivo': 'The Game Boy Geek Reviews Sagrada  Video  BoardGameGeek.txt',\n",
       "  'idioma': 'en'},\n",
       " {'nombre_archivo': '[NTFG] Sagrada - Stained Glass  Video  BoardGameGeek.txt',\n",
       "  'idioma': 'en'},\n",
       " {'nombre_archivo': 'Sagrada — Gen Con 2016  Video  BoardGameGeek.txt',\n",
       "  'idioma': 'en'},\n",
       " {'nombre_archivo': 'The Gateway Guy reviews Sagrada  Video  BoardGameGeek.txt',\n",
       "  'idioma': 'en'},\n",
       " {'nombre_archivo': 'JonGetsGames - Sagrada Full Playthrough  Video  BoardGameGeek.txt',\n",
       "  'idioma': 'en'},\n",
       " {'nombre_archivo': 'One Stop Solo Playthrough  Video  BoardGameGeek.txt',\n",
       "  'idioma': 'en'},\n",
       " {'nombre_archivo': 'Sagrada in about 3 minutes  Video  BoardGameGeek.txt',\n",
       "  'idioma': 'en'},\n",
       " {'nombre_archivo': 'Rahdo Runs Through►►► Sagrada  Video  BoardGameGeek.txt',\n",
       "  'idioma': 'en'},\n",
       " {'nombre_archivo': 'Sagrada - A Chit Chat Review by Amanda and Amanda  Video  BoardGameGeek.txt',\n",
       "  'idioma': 'en'},\n",
       " {'nombre_archivo': 'Video Review  Video  BoardGameGeek.txt', 'idioma': 'en'},\n",
       " {'nombre_archivo': 'Sagrada - Unboxing  Video  BoardGameGeek.txt',\n",
       "  'idioma': 'en'},\n",
       " {'nombre_archivo': 'Never Bored Gaming - Our Thoughts  Video  BoardGameGeek.txt',\n",
       "  'idioma': 'en'},\n",
       " {'nombre_archivo': 'Bits of Board - Sagrada Review  Video  BoardGameGeek.txt',\n",
       "  'idioma': 'en'},\n",
       " {'nombre_archivo': 'Boardgame Opinions Sagrada  Video  BoardGameGeek.txt',\n",
       "  'idioma': 'en'},\n",
       " {'nombre_archivo': 'Sagrada - Play Through, by Watch It Played  Video  BoardGameGeek.txt',\n",
       "  'idioma': 'en'},\n",
       " {'nombre_archivo': 'Sagrada - Playthrough  Video  BoardGameGeek.txt',\n",
       "  'idioma': 'en'},\n",
       " {'nombre_archivo': \"Edo' Sagrada Review  Video  BoardGameGeek.txt\",\n",
       "  'idioma': 'en'},\n",
       " {'nombre_archivo': 'Gen Con Bonanza 2016 Sagrada Interview  Video  BoardGameGeek.txt',\n",
       "  'idioma': 'en'},\n",
       " {'nombre_archivo': 'Sagrada Review - with Tom Vasel  Video  BoardGameGeek.txt',\n",
       "  'idioma': 'en'},\n",
       " {'nombre_archivo': \"The Game Boy Geek's Allegro (2-min) Review of Sagrada  Video  BoardGameGeek.txt\",\n",
       "  'idioma': 'en'},\n",
       " {'nombre_archivo': 'misutmeeple.com_2018_08_resena-sagrada.txt',\n",
       "  'idioma': 'es'},\n",
       " {'nombre_archivo': 'SAGRADA.txt', 'idioma': 'es'},\n",
       " {'nombre_archivo': 'Sagrada-Rules-Floodgate-Games-SA01.txt', 'idioma': 'en'},\n",
       " {'nombre_archivo': 'Sagrada - unboxing and simplified play  Video  BoardGameGeek.txt',\n",
       "  'idioma': 'en'},\n",
       " {'nombre_archivo': 'sagrada_comments.txt', 'idioma': 'en'},\n",
       " {'nombre_archivo': 'Sagrada Review  Video  BoardGameGeek.txt',\n",
       "  'idioma': 'en'}]"
      ]
     },
     "execution_count": 10,
     "metadata": {},
     "output_type": "execute_result"
    }
   ],
   "source": [
    "registro_idiomas"
   ]
  },
  {
   "cell_type": "code",
   "execution_count": 11,
   "id": "96b2b160",
   "metadata": {},
   "outputs": [],
   "source": [
    "import pandas as pd"
   ]
  },
  {
   "cell_type": "code",
   "execution_count": 12,
   "id": "bee5388f",
   "metadata": {},
   "outputs": [],
   "source": [
    "df_idiomas = pd.DataFrame(registro_idiomas)"
   ]
  },
  {
   "cell_type": "code",
   "execution_count": 17,
   "id": "8cab80a7",
   "metadata": {},
   "outputs": [
    {
     "data": {
      "text/html": [
       "<div>\n",
       "<style scoped>\n",
       "    .dataframe tbody tr th:only-of-type {\n",
       "        vertical-align: middle;\n",
       "    }\n",
       "\n",
       "    .dataframe tbody tr th {\n",
       "        vertical-align: top;\n",
       "    }\n",
       "\n",
       "    .dataframe thead th {\n",
       "        text-align: right;\n",
       "    }\n",
       "</style>\n",
       "<table border=\"1\" class=\"dataframe\">\n",
       "  <thead>\n",
       "    <tr style=\"text-align: right;\">\n",
       "      <th></th>\n",
       "      <th>nombre_archivo</th>\n",
       "      <th>idioma</th>\n",
       "    </tr>\n",
       "  </thead>\n",
       "  <tbody>\n",
       "    <tr>\n",
       "      <th>0</th>\n",
       "      <td>Sagrada - How To Play, by Watch It Played  Vid...</td>\n",
       "      <td>en</td>\n",
       "    </tr>\n",
       "    <tr>\n",
       "      <th>1</th>\n",
       "      <td>Sagrada Review by Man Vs Meeple  Video  BoardG...</td>\n",
       "      <td>en</td>\n",
       "    </tr>\n",
       "    <tr>\n",
       "      <th>2</th>\n",
       "      <td>Sagrada_solitaire_variant.txt</td>\n",
       "      <td>en</td>\n",
       "    </tr>\n",
       "    <tr>\n",
       "      <th>3</th>\n",
       "      <td>Bryan Drake @TheLatestRetro reviews Sagrada  V...</td>\n",
       "      <td>en</td>\n",
       "    </tr>\n",
       "    <tr>\n",
       "      <th>4</th>\n",
       "      <td>solomode games - Sagrada solo session  Video  ...</td>\n",
       "      <td>en</td>\n",
       "    </tr>\n",
       "  </tbody>\n",
       "</table>\n",
       "</div>"
      ],
      "text/plain": [
       "                                      nombre_archivo idioma\n",
       "0  Sagrada - How To Play, by Watch It Played  Vid...     en\n",
       "1  Sagrada Review by Man Vs Meeple  Video  BoardG...     en\n",
       "2                      Sagrada_solitaire_variant.txt     en\n",
       "3  Bryan Drake @TheLatestRetro reviews Sagrada  V...     en\n",
       "4  solomode games - Sagrada solo session  Video  ...     en"
      ]
     },
     "execution_count": 17,
     "metadata": {},
     "output_type": "execute_result"
    }
   ],
   "source": [
    "df_idiomas.head()"
   ]
  },
  {
   "cell_type": "code",
   "execution_count": null,
   "id": "dc438a03",
   "metadata": {},
   "outputs": [],
   "source": []
  }
 ],
 "metadata": {
  "kernelspec": {
   "display_name": ".venv",
   "language": "python",
   "name": "python3"
  },
  "language_info": {
   "codemirror_mode": {
    "name": "ipython",
    "version": 3
   },
   "file_extension": ".py",
   "mimetype": "text/x-python",
   "name": "python",
   "nbconvert_exporter": "python",
   "pygments_lexer": "ipython3",
   "version": "3.11.12"
  }
 },
 "nbformat": 4,
 "nbformat_minor": 5
}
