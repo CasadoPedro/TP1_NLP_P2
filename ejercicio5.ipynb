{
 "cells": [
  {
   "cell_type": "markdown",
   "id": "7989fe54",
   "metadata": {},
   "source": [
    "#EJERCICIO 5  \n",
    "\n",
    "En  el  caso  de  las  reseñas  realizadas por usuarios, utiliza análisis de sentimientos con \n",
    "modelos pre entrenados y guarda la clasificación predecida de cada reseña. \n",
    " \n",
    "Luego,  crea  un  sistema  de  búsquedas  por similitud semántica y que permita filtrar por \n",
    "sentimiento para obtener."
   ]
  },
  {
   "cell_type": "code",
   "execution_count": 4,
   "id": "39b56968",
   "metadata": {},
   "outputs": [],
   "source": [
    "#Abrimos el archivo con las reseñas y guardamos cada comentario en una lista\n",
    "with open('./datos/informacion/sagrada_comments.txt', 'r', encoding='utf-8') as file:\n",
    "    comments = file.read()"
   ]
  },
  {
   "cell_type": "code",
   "execution_count": 5,
   "id": "7803b5a5",
   "metadata": {},
   "outputs": [],
   "source": [
    "# Separamos los comentarios por el delimitador específico que se utiliza en el archivo\n",
    "lista_comentarios = comments.split('\\n\\n;\\n\\n')"
   ]
  },
  {
   "cell_type": "code",
   "execution_count": 6,
   "id": "6af337f1",
   "metadata": {},
   "outputs": [
    {
     "data": {
      "text/plain": [
       "2501"
      ]
     },
     "execution_count": 6,
     "metadata": {},
     "output_type": "execute_result"
    }
   ],
   "source": [
    "len(lista_comentarios)"
   ]
  },
  {
   "cell_type": "code",
   "execution_count": 10,
   "id": "1495feda",
   "metadata": {},
   "outputs": [
    {
     "name": "stderr",
     "output_type": "stream",
     "text": [
      "Device set to use cuda:0\n"
     ]
    }
   ],
   "source": [
    "from transformers import BertTokenizer, BertForSequenceClassification\n",
    "from transformers import pipeline\n",
    "\n",
    "# Cargamos el tokenizador y el modelo\n",
    "model_name = \"nlptown/bert-base-multilingual-uncased-sentiment\"\n",
    "tokenizer = BertTokenizer.from_pretrained(model_name)\n",
    "model = BertForSequenceClassification.from_pretrained(model_name)\n",
    "\n",
    "# Creamos un pipeline de clasificación\n",
    "nlp = pipeline(\"sentiment-analysis\", truncation= True, model=model, tokenizer=tokenizer)"
   ]
  },
  {
   "cell_type": "code",
   "execution_count": 11,
   "id": "f4f85e35",
   "metadata": {},
   "outputs": [
    {
     "name": "stderr",
     "output_type": "stream",
     "text": [
      "You seem to be using the pipelines sequentially on GPU. In order to maximize efficiency please use a dataset\n"
     ]
    }
   ],
   "source": [
    "# Obtenemos las predicciones de sentimiento para cada frase y lo guardamos en una lista\n",
    "sentimiento_comentarios = []\n",
    "for frase in lista_comentarios:\n",
    "    sentimiento_comentarios.append(nlp(frase))"
   ]
  },
  {
   "cell_type": "code",
   "execution_count": 21,
   "id": "420700a5",
   "metadata": {},
   "outputs": [],
   "source": [
    "from sentence_transformers import SentenceTransformer, util"
   ]
  },
  {
   "cell_type": "code",
   "execution_count": null,
   "id": "2b0fddae",
   "metadata": {},
   "outputs": [],
   "source": [
    "# Cargamos el modelo preentrenado multilingüe para generar embeddings de oraciones\n",
    "modelo_cased_v2 = SentenceTransformer('distiluse-base-multilingual-cased-v2')"
   ]
  },
  {
   "cell_type": "code",
   "execution_count": 14,
   "id": "22922bca",
   "metadata": {},
   "outputs": [],
   "source": [
    "#Procesamos las oraciones\n",
    "embeddings = modelo_cased_v2.encode(lista_comentarios, convert_to_tensor=True)"
   ]
  },
  {
   "cell_type": "code",
   "execution_count": 30,
   "id": "ddf13a5f",
   "metadata": {},
   "outputs": [],
   "source": [
    "def buscar_reseñas(query, estrellas, top_n=3):\n",
    "    # Codificamos la consulta para buscar reseñas\n",
    "    query_embedding = modelo_cased_v2.encode(query, convert_to_tensor=True)\n",
    "    reseñas_filtradas = []\n",
    "    # Filtramos las reseñas por el número de estrellas\n",
    "    for i, sentimiento in enumerate(sentimiento_comentarios):\n",
    "        if sentimiento[0]['label'] == estrellas:\n",
    "            # Calculamos la similitud entre la consulta y las reseñas\n",
    "            similarity = util.cos_sim(query_embedding, embeddings[i])\n",
    "            # Guardamos la reseña y su similitud\n",
    "            reseñas_filtradas.append((lista_comentarios[i], similarity))\n",
    "            #print(f\"Reseña: {lista_comentarios[i]}\\nSimilitud: {similarity.item()}\\n\")\n",
    "    # Ordenamos las reseñas por similitud y seleccionamos las mejores\n",
    "    reseñas_filtradas.sort(key=lambda x: x[1], reverse=True)\n",
    "    return reseñas_filtradas[:top_n]\n",
    "            "
   ]
  },
  {
   "cell_type": "code",
   "execution_count": 65,
   "id": "fbe85ed7",
   "metadata": {},
   "outputs": [],
   "source": [
    "resultados = buscar_reseñas(\"it is boring\", \"3 stars\", top_n=3)"
   ]
  },
  {
   "cell_type": "code",
   "execution_count": 66,
   "id": "fbd209c5",
   "metadata": {},
   "outputs": [
    {
     "name": "stdout",
     "output_type": "stream",
     "text": [
      "Reseña: nice.. but boring\n",
      "Similitud: 0.5766628980636597\n",
      "\n",
      "Reseña: It's shiny but kinda boring.\n",
      "Similitud: 0.5170140266418457\n",
      "\n",
      "Reseña: ok but a little bit boring for me\n",
      "Similitud: 0.45535808801651\n",
      "\n"
     ]
    }
   ],
   "source": [
    "for reseña, similitud in resultados:\n",
    "    print(f\"Reseña: {reseña}\\nSimilitud: {similitud.item()}\\n\")"
   ]
  },
  {
   "cell_type": "code",
   "execution_count": null,
   "id": "7aa1cd86",
   "metadata": {},
   "outputs": [],
   "source": []
  }
 ],
 "metadata": {
  "kernelspec": {
   "display_name": ".venv",
   "language": "python",
   "name": "python3"
  },
  "language_info": {
   "codemirror_mode": {
    "name": "ipython",
    "version": 3
   },
   "file_extension": ".py",
   "mimetype": "text/x-python",
   "name": "python",
   "nbconvert_exporter": "python",
   "pygments_lexer": "ipython3",
   "version": "3.11.12"
  }
 },
 "nbformat": 4,
 "nbformat_minor": 5
}
